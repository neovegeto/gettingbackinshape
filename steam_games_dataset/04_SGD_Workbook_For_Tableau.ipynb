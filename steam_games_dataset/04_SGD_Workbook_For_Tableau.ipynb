{
 "cells": [
  {
   "cell_type": "markdown",
   "metadata": {},
   "source": [
    "In this workbook we want to create a Dataset, that we can load into our local PostGres-Database and then do some visualisations via Tableau"
   ]
  },
  {
   "cell_type": "markdown",
   "metadata": {},
   "source": [
    "We do the same cleaning like Workbook 02"
   ]
  },
  {
   "cell_type": "code",
   "execution_count": 1,
   "metadata": {},
   "outputs": [],
   "source": [
    "#Importing the necessary libraries\n",
    "import pandas as pd             # pandas for data frame\n",
    "import numpy as np              # numpy for array\n",
    "\n",
    "import matplotlib.pyplot as plt # for plotting\n",
    "# Will allow us to embed images in the notebook\n",
    "%matplotlib inline\n",
    "from matplotlib.cbook import _reshape_2D\n",
    "\n",
    "# Seaborn visualization library\n",
    "# https://towardsdatascience.com/visualizing-data-with-pair-plots-in-python-f228cf529166\n",
    "import seaborn as sns"
   ]
  },
  {
   "cell_type": "markdown",
   "metadata": {},
   "source": [
    "For SQL"
   ]
  },
  {
   "cell_type": "code",
   "execution_count": 2,
   "metadata": {},
   "outputs": [],
   "source": [
    "from sql_functions import *     # functions from file for upload on schema\n",
    "import psycopg2                 # for upload on engine\n",
    "\n",
    "# Import the get_engine function from our sql_functions.\n",
    "from sql_functions import get_engine #adjust this as necessary to match your sql_functions.py connection methods\n",
    "\n",
    "# Import get_dataframe from sql_functions.py\n",
    "from sql_functions import get_dataframe\n",
    "\n",
    "# create a variable called engine using the get_engine function\n",
    "engine = get_engine()"
   ]
  },
  {
   "cell_type": "markdown",
   "metadata": {},
   "source": [
    "We want to see all"
   ]
  },
  {
   "cell_type": "code",
   "execution_count": 3,
   "metadata": {},
   "outputs": [],
   "source": [
    "# Set the option to prevent truncation of column names\n",
    "pd.set_option('display.max_columns', None)\n"
   ]
  },
  {
   "cell_type": "markdown",
   "metadata": {},
   "source": [
    "We create empty DataFrames"
   ]
  },
  {
   "cell_type": "code",
   "execution_count": 4,
   "metadata": {},
   "outputs": [],
   "source": [
    "# create an empty dataframe\n",
    "df = pd.DataFrame()\n",
    "games = pd.DataFrame()"
   ]
  },
  {
   "cell_type": "markdown",
   "metadata": {},
   "source": [
    "Loading the Data"
   ]
  },
  {
   "cell_type": "code",
   "execution_count": 5,
   "metadata": {},
   "outputs": [],
   "source": [
    "#Loading the DataSet games.csv from the folder sgd_data with Python Pandas\n",
    "# The games.csv file is in the sgd_data folder\n",
    "# The file is to large for the Upload to GitHub, so you have to download it from the following link:\n",
    "# https://www.kaggle.com/datasets/fronkongames/steam-games-dataset?resource=download\n",
    "\n",
    "games = pd.read_csv('sgd_data/games.csv')"
   ]
  },
  {
   "cell_type": "markdown",
   "metadata": {},
   "source": [
    "Creating a Copy"
   ]
  },
  {
   "cell_type": "code",
   "execution_count": 6,
   "metadata": {},
   "outputs": [],
   "source": [
    "# Load the CSV file into a DataFrame as a copy\n",
    "df = games"
   ]
  },
  {
   "cell_type": "markdown",
   "metadata": {},
   "source": [
    "Just checking in"
   ]
  },
  {
   "cell_type": "code",
   "execution_count": 7,
   "metadata": {},
   "outputs": [
    {
     "name": "stdout",
     "output_type": "stream",
     "text": [
      "<class 'pandas.core.frame.DataFrame'>\n",
      "RangeIndex: 76987 entries, 0 to 76986\n",
      "Data columns (total 39 columns):\n",
      " #   Column                      Non-Null Count  Dtype  \n",
      "---  ------                      --------------  -----  \n",
      " 0   AppID                       76987 non-null  int64  \n",
      " 1   Name                        76985 non-null  object \n",
      " 2   Release date                76987 non-null  object \n",
      " 3   Estimated owners            76987 non-null  object \n",
      " 4   Peak CCU                    76987 non-null  int64  \n",
      " 5   Required age                76987 non-null  int64  \n",
      " 6   Price                       76987 non-null  float64\n",
      " 7   DLC count                   76987 non-null  int64  \n",
      " 8   About the game              74070 non-null  object \n",
      " 9   Supported languages         76987 non-null  object \n",
      " 10  Full audio languages        76987 non-null  object \n",
      " 11  Reviews                     9362 non-null   object \n",
      " 12  Header image                76987 non-null  object \n",
      " 13  Website                     36679 non-null  object \n",
      " 14  Support url                 38228 non-null  object \n",
      " 15  Support email               64897 non-null  object \n",
      " 16  Windows                     76987 non-null  bool   \n",
      " 17  Mac                         76987 non-null  bool   \n",
      " 18  Linux                       76987 non-null  bool   \n",
      " 19  Metacritic score            76987 non-null  int64  \n",
      " 20  Metacritic url              3792 non-null   object \n",
      " 21  User score                  76987 non-null  int64  \n",
      " 22  Positive                    76987 non-null  int64  \n",
      " 23  Negative                    76987 non-null  int64  \n",
      " 24  Score rank                  42 non-null     float64\n",
      " 25  Achievements                76987 non-null  int64  \n",
      " 26  Recommendations             76987 non-null  int64  \n",
      " 27  Notes                       11503 non-null  object \n",
      " 28  Average playtime forever    76987 non-null  int64  \n",
      " 29  Average playtime two weeks  76987 non-null  int64  \n",
      " 30  Median playtime forever     76987 non-null  int64  \n",
      " 31  Median playtime two weeks   76987 non-null  int64  \n",
      " 32  Developers                  74047 non-null  object \n",
      " 33  Publishers                  73811 non-null  object \n",
      " 34  Categories                  73071 non-null  object \n",
      " 35  Genres                      74069 non-null  object \n",
      " 36  Tags                        59522 non-null  object \n",
      " 37  Screenshots                 75369 non-null  object \n",
      " 38  Movies                      71369 non-null  object \n",
      "dtypes: bool(3), float64(2), int64(14), object(20)\n",
      "memory usage: 21.4+ MB\n"
     ]
    },
    {
     "data": {
      "text/plain": [
       "None"
      ]
     },
     "metadata": {},
     "output_type": "display_data"
    }
   ],
   "source": [
    "# Display the information of the dataset\n",
    "display(df.info())"
   ]
  },
  {
   "cell_type": "markdown",
   "metadata": {},
   "source": [
    "checking for Missing Values"
   ]
  },
  {
   "cell_type": "code",
   "execution_count": 8,
   "metadata": {},
   "outputs": [
    {
     "data": {
      "text/plain": [
       "AppID                             0\n",
       "Name                              2\n",
       "Release date                      0\n",
       "Estimated owners                  0\n",
       "Peak CCU                          0\n",
       "Required age                      0\n",
       "Price                             0\n",
       "DLC count                         0\n",
       "About the game                 2917\n",
       "Supported languages               0\n",
       "Full audio languages              0\n",
       "Reviews                       67625\n",
       "Header image                      0\n",
       "Website                       40308\n",
       "Support url                   38759\n",
       "Support email                 12090\n",
       "Windows                           0\n",
       "Mac                               0\n",
       "Linux                             0\n",
       "Metacritic score                  0\n",
       "Metacritic url                73195\n",
       "User score                        0\n",
       "Positive                          0\n",
       "Negative                          0\n",
       "Score rank                    76945\n",
       "Achievements                      0\n",
       "Recommendations                   0\n",
       "Notes                         65484\n",
       "Average playtime forever          0\n",
       "Average playtime two weeks        0\n",
       "Median playtime forever           0\n",
       "Median playtime two weeks         0\n",
       "Developers                     2940\n",
       "Publishers                     3176\n",
       "Categories                     3916\n",
       "Genres                         2918\n",
       "Tags                          17465\n",
       "Screenshots                    1618\n",
       "Movies                         5618\n",
       "dtype: int64"
      ]
     },
     "metadata": {},
     "output_type": "display_data"
    }
   ],
   "source": [
    "# Check for missing values\n",
    "display(df.isnull().sum())"
   ]
  },
  {
   "cell_type": "markdown",
   "metadata": {},
   "source": [
    "and plotting it"
   ]
  },
  {
   "cell_type": "code",
   "execution_count": 9,
   "metadata": {},
   "outputs": [
    {
     "data": {
      "image/png": "[encoded data removed]",
      "text/plain": [
       "<Figure size 720x432 with 1 Axes>"
      ]
     },
     "metadata": {
      "needs_background": "light"
     },
     "output_type": "display_data"
    }
   ],
   "source": [
    "# Calculate the count of missing values in each column\n",
    "missing_counts = df.isnull().sum()\n",
    "\n",
    "# Filter columns with missing values\n",
    "missing_columns = missing_counts[missing_counts > 0]\n",
    "\n",
    "# Set the figure size\n",
    "plt.figure(figsize=(10, 6))\n",
    "\n",
    "# Create a bar plot for missing values\n",
    "plt.bar(missing_columns.index, missing_columns.values, color='red')\n",
    "plt.xlabel('Columns')\n",
    "plt.ylabel('Missing Value Count')\n",
    "plt.title('Missing Value Counts for Columns with Missing Values')\n",
    "plt.xticks(rotation=45, ha='right')\n",
    "plt.tight_layout()\n",
    "plt.show()\n"
   ]
  },
  {
   "cell_type": "markdown",
   "metadata": {},
   "source": [
    "----"
   ]
  },
  {
   "cell_type": "markdown",
   "metadata": {},
   "source": [
    "Do some normalizing"
   ]
  },
  {
   "cell_type": "code",
   "execution_count": 10,
   "metadata": {},
   "outputs": [
    {
     "name": "stdout",
     "output_type": "stream",
     "text": [
      "Normalized column headers:\n",
      "Index(['appid', 'name', 'release_date', 'estimated_owners', 'peak_ccu',\n",
      "       'required_age', 'price', 'dlc_count', 'about_the_game',\n",
      "       'supported_languages', 'full_audio_languages', 'reviews',\n",
      "       'header_image', 'website', 'support_url', 'support_email', 'windows',\n",
      "       'mac', 'linux', 'metacritic_score', 'metacritic_url', 'user_score',\n",
      "       'positive', 'negative', 'score_rank', 'achievements', 'recommendations',\n",
      "       'notes', 'average_playtime_forever', 'average_playtime_two_weeks',\n",
      "       'median_playtime_forever', 'median_playtime_two_weeks', 'developers',\n",
      "       'publishers', 'categories', 'genres', 'tags', 'screenshots', 'movies'],\n",
      "      dtype='object')\n"
     ]
    },
    {
     "name": "stderr",
     "output_type": "stream",
     "text": [
      "/var/folders/yg/z64xf8615mxbsw25_zldzjnm0000gn/T/ipykernel_2494/773374837.py:4: FutureWarning: The default value of regex will change from True to False in a future version.\n",
      "  df.columns = df.columns.str.replace('[^\\w\\s]', '')  # Remove special characters\n"
     ]
    }
   ],
   "source": [
    "# Normalize column headers\n",
    "df.columns = df.columns.str.lower()  # Convert to lowercase\n",
    "df.columns = df.columns.str.replace(' ', '_')  # Replace spaces with underscores\n",
    "df.columns = df.columns.str.replace('[^\\w\\s]', '')  # Remove special characters\n",
    "\n",
    "print(\"Normalized column headers:\")\n",
    "print(df.columns)"
   ]
  },
  {
   "cell_type": "markdown",
   "metadata": {},
   "source": [
    "confertig to datetime"
   ]
  },
  {
   "cell_type": "code",
   "execution_count": 11,
   "metadata": {},
   "outputs": [
    {
     "name": "stdout",
     "output_type": "stream",
     "text": [
      "DataFrame with 'Release date' in datetime format:\n"
     ]
    },
    {
     "data": {
      "text/html": [
       "<div>\n",
       "<style scoped>\n",
       "    .dataframe tbody tr th:only-of-type {\n",
       "        vertical-align: middle;\n",
       "    }\n",
       "\n",
       "    .dataframe tbody tr th {\n",
       "        vertical-align: top;\n",
       "    }\n",
       "\n",
       "    .dataframe thead th {\n",
       "        text-align: right;\n",
       "    }\n",
       "</style>\n",
       "<table border=\"1\" class=\"dataframe\">\n",
       "  <thead>\n",
       "    <tr style=\"text-align: right;\">\n",
       "      <th></th>\n",
       "      <th>appid</th>\n",
       "      <th>name</th>\n",
       "      <th>release_date</th>\n",
       "      <th>estimated_owners</th>\n",
       "      <th>peak_ccu</th>\n",
       "      <th>required_age</th>\n",
       "      <th>price</th>\n",
       "      <th>dlc_count</th>\n",
       "      <th>about_the_game</th>\n",
       "      <th>supported_languages</th>\n",
       "      <th>full_audio_languages</th>\n",
       "      <th>reviews</th>\n",
       "      <th>header_image</th>\n",
       "      <th>website</th>\n",
       "      <th>support_url</th>\n",
       "      <th>support_email</th>\n",
       "      <th>windows</th>\n",
       "      <th>mac</th>\n",
       "      <th>linux</th>\n",
       "      <th>metacritic_score</th>\n",
       "      <th>metacritic_url</th>\n",
       "      <th>user_score</th>\n",
       "      <th>positive</th>\n",
       "      <th>negative</th>\n",
       "      <th>score_rank</th>\n",
       "      <th>achievements</th>\n",
       "      <th>recommendations</th>\n",
       "      <th>notes</th>\n",
       "      <th>average_playtime_forever</th>\n",
       "      <th>average_playtime_two_weeks</th>\n",
       "      <th>median_playtime_forever</th>\n",
       "      <th>median_playtime_two_weeks</th>\n",
       "      <th>developers</th>\n",
       "      <th>publishers</th>\n",
       "      <th>categories</th>\n",
       "      <th>genres</th>\n",
       "      <th>tags</th>\n",
       "      <th>screenshots</th>\n",
       "      <th>movies</th>\n",
       "    </tr>\n",
       "  </thead>\n",
       "  <tbody>\n",
       "    <tr>\n",
       "      <th>0</th>\n",
       "      <td>20200</td>\n",
       "      <td>Galactic Bowling</td>\n",
       "      <td>2008-10-21</td>\n",
       "      <td>0 - 20000</td>\n",
       "      <td>0</td>\n",
       "      <td>0</td>\n",
       "      <td>19.99</td>\n",
       "      <td>0</td>\n",
       "      <td>Galactic Bowling is an exaggerated and stylize...</td>\n",
       "      <td>['English']</td>\n",
       "      <td>[]</td>\n",
       "      <td>NaN</td>\n",
       "      <td>https://cdn.akamai.steamstatic.com/steam/apps/...</td>\n",
       "      <td>http://www.galacticbowling.net</td>\n",
       "      <td>NaN</td>\n",
       "      <td>NaN</td>\n",
       "      <td>True</td>\n",
       "      <td>False</td>\n",
       "      <td>False</td>\n",
       "      <td>0</td>\n",
       "      <td>NaN</td>\n",
       "      <td>0</td>\n",
       "      <td>6</td>\n",
       "      <td>11</td>\n",
       "      <td>NaN</td>\n",
       "      <td>30</td>\n",
       "      <td>0</td>\n",
       "      <td>NaN</td>\n",
       "      <td>0</td>\n",
       "      <td>0</td>\n",
       "      <td>0</td>\n",
       "      <td>0</td>\n",
       "      <td>Perpetual FX Creative</td>\n",
       "      <td>Perpetual FX Creative</td>\n",
       "      <td>Single-player,Multi-player,Steam Achievements,...</td>\n",
       "      <td>Casual,Indie,Sports</td>\n",
       "      <td>Indie,Casual,Sports,Bowling</td>\n",
       "      <td>https://cdn.akamai.steamstatic.com/steam/apps/...</td>\n",
       "      <td>http://cdn.akamai.steamstatic.com/steam/apps/2...</td>\n",
       "    </tr>\n",
       "    <tr>\n",
       "      <th>1</th>\n",
       "      <td>655370</td>\n",
       "      <td>Train Bandit</td>\n",
       "      <td>2017-10-12</td>\n",
       "      <td>0 - 20000</td>\n",
       "      <td>0</td>\n",
       "      <td>0</td>\n",
       "      <td>0.99</td>\n",
       "      <td>0</td>\n",
       "      <td>THE LAW!! Looks to be a showdown atop a train....</td>\n",
       "      <td>['English', 'French', 'Italian', 'German', 'Sp...</td>\n",
       "      <td>[]</td>\n",
       "      <td>NaN</td>\n",
       "      <td>https://cdn.akamai.steamstatic.com/steam/apps/...</td>\n",
       "      <td>http://trainbandit.com</td>\n",
       "      <td>NaN</td>\n",
       "      <td>support@rustymoyher.com</td>\n",
       "      <td>True</td>\n",
       "      <td>True</td>\n",
       "      <td>False</td>\n",
       "      <td>0</td>\n",
       "      <td>NaN</td>\n",
       "      <td>0</td>\n",
       "      <td>53</td>\n",
       "      <td>5</td>\n",
       "      <td>NaN</td>\n",
       "      <td>12</td>\n",
       "      <td>0</td>\n",
       "      <td>NaN</td>\n",
       "      <td>0</td>\n",
       "      <td>0</td>\n",
       "      <td>0</td>\n",
       "      <td>0</td>\n",
       "      <td>Rusty Moyher</td>\n",
       "      <td>Wild Rooster</td>\n",
       "      <td>Single-player,Steam Achievements,Full controll...</td>\n",
       "      <td>Action,Indie</td>\n",
       "      <td>Indie,Action,Pixel Graphics,2D,Retro,Arcade,Sc...</td>\n",
       "      <td>https://cdn.akamai.steamstatic.com/steam/apps/...</td>\n",
       "      <td>http://cdn.akamai.steamstatic.com/steam/apps/2...</td>\n",
       "    </tr>\n",
       "    <tr>\n",
       "      <th>2</th>\n",
       "      <td>1732930</td>\n",
       "      <td>Jolt Project</td>\n",
       "      <td>2021-11-17</td>\n",
       "      <td>0 - 20000</td>\n",
       "      <td>0</td>\n",
       "      <td>0</td>\n",
       "      <td>4.99</td>\n",
       "      <td>0</td>\n",
       "      <td>Jolt Project: The army now has a new robotics ...</td>\n",
       "      <td>['English', 'Portuguese - Brazil']</td>\n",
       "      <td>[]</td>\n",
       "      <td>NaN</td>\n",
       "      <td>https://cdn.akamai.steamstatic.com/steam/apps/...</td>\n",
       "      <td>NaN</td>\n",
       "      <td>NaN</td>\n",
       "      <td>ramoncampiaof31@gmail.com</td>\n",
       "      <td>True</td>\n",
       "      <td>False</td>\n",
       "      <td>False</td>\n",
       "      <td>0</td>\n",
       "      <td>NaN</td>\n",
       "      <td>0</td>\n",
       "      <td>0</td>\n",
       "      <td>0</td>\n",
       "      <td>NaN</td>\n",
       "      <td>0</td>\n",
       "      <td>0</td>\n",
       "      <td>NaN</td>\n",
       "      <td>0</td>\n",
       "      <td>0</td>\n",
       "      <td>0</td>\n",
       "      <td>0</td>\n",
       "      <td>Campião Games</td>\n",
       "      <td>Campião Games</td>\n",
       "      <td>Single-player</td>\n",
       "      <td>Action,Adventure,Indie,Strategy</td>\n",
       "      <td>NaN</td>\n",
       "      <td>https://cdn.akamai.steamstatic.com/steam/apps/...</td>\n",
       "      <td>http://cdn.akamai.steamstatic.com/steam/apps/2...</td>\n",
       "    </tr>\n",
       "  </tbody>\n",
       "</table>\n",
       "</div>"
      ],
      "text/plain": [
       "     appid              name release_date estimated_owners  peak_ccu  \\\n",
       "0    20200  Galactic Bowling   2008-10-21        0 - 20000         0   \n",
       "1   655370      Train Bandit   2017-10-12        0 - 20000         0   \n",
       "2  1732930      Jolt Project   2021-11-17        0 - 20000         0   \n",
       "\n",
       "   required_age  price  dlc_count  \\\n",
       "0             0  19.99          0   \n",
       "1             0   0.99          0   \n",
       "2             0   4.99          0   \n",
       "\n",
       "                                      about_the_game  \\\n",
       "0  Galactic Bowling is an exaggerated and stylize...   \n",
       "1  THE LAW!! Looks to be a showdown atop a train....   \n",
       "2  Jolt Project: The army now has a new robotics ...   \n",
       "\n",
       "                                 supported_languages full_audio_languages  \\\n",
       "0                                        ['English']                   []   \n",
       "1  ['English', 'French', 'Italian', 'German', 'Sp...                   []   \n",
       "2                 ['English', 'Portuguese - Brazil']                   []   \n",
       "\n",
       "  reviews                                       header_image  \\\n",
       "0     NaN  https://cdn.akamai.steamstatic.com/steam/apps/...   \n",
       "1     NaN  https://cdn.akamai.steamstatic.com/steam/apps/...   \n",
       "2     NaN  https://cdn.akamai.steamstatic.com/steam/apps/...   \n",
       "\n",
       "                          website support_url              support_email  \\\n",
       "0  http://www.galacticbowling.net         NaN                        NaN   \n",
       "1          http://trainbandit.com         NaN    support@rustymoyher.com   \n",
       "2                             NaN         NaN  ramoncampiaof31@gmail.com   \n",
       "\n",
       "   windows    mac  linux  metacritic_score metacritic_url  user_score  \\\n",
       "0     True  False  False                 0            NaN           0   \n",
       "1     True   True  False                 0            NaN           0   \n",
       "2     True  False  False                 0            NaN           0   \n",
       "\n",
       "   positive  negative  score_rank  achievements  recommendations notes  \\\n",
       "0         6        11         NaN            30                0   NaN   \n",
       "1        53         5         NaN            12                0   NaN   \n",
       "2         0         0         NaN             0                0   NaN   \n",
       "\n",
       "   average_playtime_forever  average_playtime_two_weeks  \\\n",
       "0                         0                           0   \n",
       "1                         0                           0   \n",
       "2                         0                           0   \n",
       "\n",
       "   median_playtime_forever  median_playtime_two_weeks             developers  \\\n",
       "0                        0                          0  Perpetual FX Creative   \n",
       "1                        0                          0           Rusty Moyher   \n",
       "2                        0                          0          Campião Games   \n",
       "\n",
       "              publishers                                         categories  \\\n",
       "0  Perpetual FX Creative  Single-player,Multi-player,Steam Achievements,...   \n",
       "1           Wild Rooster  Single-player,Steam Achievements,Full controll...   \n",
       "2          Campião Games                                      Single-player   \n",
       "\n",
       "                            genres  \\\n",
       "0              Casual,Indie,Sports   \n",
       "1                     Action,Indie   \n",
       "2  Action,Adventure,Indie,Strategy   \n",
       "\n",
       "                                                tags  \\\n",
       "0                        Indie,Casual,Sports,Bowling   \n",
       "1  Indie,Action,Pixel Graphics,2D,Retro,Arcade,Sc...   \n",
       "2                                                NaN   \n",
       "\n",
       "                                         screenshots  \\\n",
       "0  https://cdn.akamai.steamstatic.com/steam/apps/...   \n",
       "1  https://cdn.akamai.steamstatic.com/steam/apps/...   \n",
       "2  https://cdn.akamai.steamstatic.com/steam/apps/...   \n",
       "\n",
       "                                              movies  \n",
       "0  http://cdn.akamai.steamstatic.com/steam/apps/2...  \n",
       "1  http://cdn.akamai.steamstatic.com/steam/apps/2...  \n",
       "2  http://cdn.akamai.steamstatic.com/steam/apps/2...  "
      ]
     },
     "metadata": {},
     "output_type": "display_data"
    }
   ],
   "source": [
    "# Convert 'Release date' to datetime format\n",
    "df['release_date'] = pd.to_datetime(df['release_date'], errors='coerce')\n",
    "\n",
    "print(\"DataFrame with 'Release date' in datetime format:\")\n",
    "display(df.head(3))"
   ]
  },
  {
   "cell_type": "markdown",
   "metadata": {},
   "source": [
    "-----"
   ]
  },
  {
   "cell_type": "markdown",
   "metadata": {},
   "source": [
    "Now some cleaning"
   ]
  },
  {
   "cell_type": "markdown",
   "metadata": {},
   "source": [
    "If a game has no \"Name\" we will delete it. Without a name we assume an error happened and therefore want to delete this"
   ]
  },
  {
   "cell_type": "code",
   "execution_count": 12,
   "metadata": {},
   "outputs": [
    {
     "data": {
      "text/html": [
       "<div>\n",
       "<style scoped>\n",
       "    .dataframe tbody tr th:only-of-type {\n",
       "        vertical-align: middle;\n",
       "    }\n",
       "\n",
       "    .dataframe tbody tr th {\n",
       "        vertical-align: top;\n",
       "    }\n",
       "\n",
       "    .dataframe thead th {\n",
       "        text-align: right;\n",
       "    }\n",
       "</style>\n",
       "<table border=\"1\" class=\"dataframe\">\n",
       "  <thead>\n",
       "    <tr style=\"text-align: right;\">\n",
       "      <th></th>\n",
       "      <th>appid</th>\n",
       "      <th>name</th>\n",
       "      <th>release_date</th>\n",
       "      <th>estimated_owners</th>\n",
       "      <th>peak_ccu</th>\n",
       "      <th>required_age</th>\n",
       "      <th>price</th>\n",
       "      <th>dlc_count</th>\n",
       "      <th>about_the_game</th>\n",
       "      <th>supported_languages</th>\n",
       "      <th>full_audio_languages</th>\n",
       "      <th>reviews</th>\n",
       "      <th>header_image</th>\n",
       "      <th>website</th>\n",
       "      <th>support_url</th>\n",
       "      <th>support_email</th>\n",
       "      <th>windows</th>\n",
       "      <th>mac</th>\n",
       "      <th>linux</th>\n",
       "      <th>metacritic_score</th>\n",
       "      <th>metacritic_url</th>\n",
       "      <th>user_score</th>\n",
       "      <th>positive</th>\n",
       "      <th>negative</th>\n",
       "      <th>score_rank</th>\n",
       "      <th>achievements</th>\n",
       "      <th>recommendations</th>\n",
       "      <th>notes</th>\n",
       "      <th>average_playtime_forever</th>\n",
       "      <th>average_playtime_two_weeks</th>\n",
       "      <th>median_playtime_forever</th>\n",
       "      <th>median_playtime_two_weeks</th>\n",
       "      <th>developers</th>\n",
       "      <th>publishers</th>\n",
       "      <th>categories</th>\n",
       "      <th>genres</th>\n",
       "      <th>tags</th>\n",
       "      <th>screenshots</th>\n",
       "      <th>movies</th>\n",
       "    </tr>\n",
       "  </thead>\n",
       "  <tbody>\n",
       "    <tr>\n",
       "      <th>0</th>\n",
       "      <td>20200</td>\n",
       "      <td>Galactic Bowling</td>\n",
       "      <td>2008-10-21</td>\n",
       "      <td>0 - 20000</td>\n",
       "      <td>0</td>\n",
       "      <td>0</td>\n",
       "      <td>19.99</td>\n",
       "      <td>0</td>\n",
       "      <td>Galactic Bowling is an exaggerated and stylize...</td>\n",
       "      <td>['English']</td>\n",
       "      <td>[]</td>\n",
       "      <td>NaN</td>\n",
       "      <td>https://cdn.akamai.steamstatic.com/steam/apps/...</td>\n",
       "      <td>http://www.galacticbowling.net</td>\n",
       "      <td>NaN</td>\n",
       "      <td>NaN</td>\n",
       "      <td>True</td>\n",
       "      <td>False</td>\n",
       "      <td>False</td>\n",
       "      <td>0</td>\n",
       "      <td>NaN</td>\n",
       "      <td>0</td>\n",
       "      <td>6</td>\n",
       "      <td>11</td>\n",
       "      <td>NaN</td>\n",
       "      <td>30</td>\n",
       "      <td>0</td>\n",
       "      <td>NaN</td>\n",
       "      <td>0</td>\n",
       "      <td>0</td>\n",
       "      <td>0</td>\n",
       "      <td>0</td>\n",
       "      <td>Perpetual FX Creative</td>\n",
       "      <td>Perpetual FX Creative</td>\n",
       "      <td>Single-player,Multi-player,Steam Achievements,...</td>\n",
       "      <td>Casual,Indie,Sports</td>\n",
       "      <td>Indie,Casual,Sports,Bowling</td>\n",
       "      <td>https://cdn.akamai.steamstatic.com/steam/apps/...</td>\n",
       "      <td>http://cdn.akamai.steamstatic.com/steam/apps/2...</td>\n",
       "    </tr>\n",
       "    <tr>\n",
       "      <th>1</th>\n",
       "      <td>655370</td>\n",
       "      <td>Train Bandit</td>\n",
       "      <td>2017-10-12</td>\n",
       "      <td>0 - 20000</td>\n",
       "      <td>0</td>\n",
       "      <td>0</td>\n",
       "      <td>0.99</td>\n",
       "      <td>0</td>\n",
       "      <td>THE LAW!! Looks to be a showdown atop a train....</td>\n",
       "      <td>['English', 'French', 'Italian', 'German', 'Sp...</td>\n",
       "      <td>[]</td>\n",
       "      <td>NaN</td>\n",
       "      <td>https://cdn.akamai.steamstatic.com/steam/apps/...</td>\n",
       "      <td>http://trainbandit.com</td>\n",
       "      <td>NaN</td>\n",
       "      <td>support@rustymoyher.com</td>\n",
       "      <td>True</td>\n",
       "      <td>True</td>\n",
       "      <td>False</td>\n",
       "      <td>0</td>\n",
       "      <td>NaN</td>\n",
       "      <td>0</td>\n",
       "      <td>53</td>\n",
       "      <td>5</td>\n",
       "      <td>NaN</td>\n",
       "      <td>12</td>\n",
       "      <td>0</td>\n",
       "      <td>NaN</td>\n",
       "      <td>0</td>\n",
       "      <td>0</td>\n",
       "      <td>0</td>\n",
       "      <td>0</td>\n",
       "      <td>Rusty Moyher</td>\n",
       "      <td>Wild Rooster</td>\n",
       "      <td>Single-player,Steam Achievements,Full controll...</td>\n",
       "      <td>Action,Indie</td>\n",
       "      <td>Indie,Action,Pixel Graphics,2D,Retro,Arcade,Sc...</td>\n",
       "      <td>https://cdn.akamai.steamstatic.com/steam/apps/...</td>\n",
       "      <td>http://cdn.akamai.steamstatic.com/steam/apps/2...</td>\n",
       "    </tr>\n",
       "    <tr>\n",
       "      <th>2</th>\n",
       "      <td>1732930</td>\n",
       "      <td>Jolt Project</td>\n",
       "      <td>2021-11-17</td>\n",
       "      <td>0 - 20000</td>\n",
       "      <td>0</td>\n",
       "      <td>0</td>\n",
       "      <td>4.99</td>\n",
       "      <td>0</td>\n",
       "      <td>Jolt Project: The army now has a new robotics ...</td>\n",
       "      <td>['English', 'Portuguese - Brazil']</td>\n",
       "      <td>[]</td>\n",
       "      <td>NaN</td>\n",
       "      <td>https://cdn.akamai.steamstatic.com/steam/apps/...</td>\n",
       "      <td>NaN</td>\n",
       "      <td>NaN</td>\n",
       "      <td>ramoncampiaof31@gmail.com</td>\n",
       "      <td>True</td>\n",
       "      <td>False</td>\n",
       "      <td>False</td>\n",
       "      <td>0</td>\n",
       "      <td>NaN</td>\n",
       "      <td>0</td>\n",
       "      <td>0</td>\n",
       "      <td>0</td>\n",
       "      <td>NaN</td>\n",
       "      <td>0</td>\n",
       "      <td>0</td>\n",
       "      <td>NaN</td>\n",
       "      <td>0</td>\n",
       "      <td>0</td>\n",
       "      <td>0</td>\n",
       "      <td>0</td>\n",
       "      <td>Campião Games</td>\n",
       "      <td>Campião Games</td>\n",
       "      <td>Single-player</td>\n",
       "      <td>Action,Adventure,Indie,Strategy</td>\n",
       "      <td>NaN</td>\n",
       "      <td>https://cdn.akamai.steamstatic.com/steam/apps/...</td>\n",
       "      <td>http://cdn.akamai.steamstatic.com/steam/apps/2...</td>\n",
       "    </tr>\n",
       "  </tbody>\n",
       "</table>\n",
       "</div>"
      ],
      "text/plain": [
       "     appid              name release_date estimated_owners  peak_ccu  \\\n",
       "0    20200  Galactic Bowling   2008-10-21        0 - 20000         0   \n",
       "1   655370      Train Bandit   2017-10-12        0 - 20000         0   \n",
       "2  1732930      Jolt Project   2021-11-17        0 - 20000         0   \n",
       "\n",
       "   required_age  price  dlc_count  \\\n",
       "0             0  19.99          0   \n",
       "1             0   0.99          0   \n",
       "2             0   4.99          0   \n",
       "\n",
       "                                      about_the_game  \\\n",
       "0  Galactic Bowling is an exaggerated and stylize...   \n",
       "1  THE LAW!! Looks to be a showdown atop a train....   \n",
       "2  Jolt Project: The army now has a new robotics ...   \n",
       "\n",
       "                                 supported_languages full_audio_languages  \\\n",
       "0                                        ['English']                   []   \n",
       "1  ['English', 'French', 'Italian', 'German', 'Sp...                   []   \n",
       "2                 ['English', 'Portuguese - Brazil']                   []   \n",
       "\n",
       "  reviews                                       header_image  \\\n",
       "0     NaN  https://cdn.akamai.steamstatic.com/steam/apps/...   \n",
       "1     NaN  https://cdn.akamai.steamstatic.com/steam/apps/...   \n",
       "2     NaN  https://cdn.akamai.steamstatic.com/steam/apps/...   \n",
       "\n",
       "                          website support_url              support_email  \\\n",
       "0  http://www.galacticbowling.net         NaN                        NaN   \n",
       "1          http://trainbandit.com         NaN    support@rustymoyher.com   \n",
       "2                             NaN         NaN  ramoncampiaof31@gmail.com   \n",
       "\n",
       "   windows    mac  linux  metacritic_score metacritic_url  user_score  \\\n",
       "0     True  False  False                 0            NaN           0   \n",
       "1     True   True  False                 0            NaN           0   \n",
       "2     True  False  False                 0            NaN           0   \n",
       "\n",
       "   positive  negative  score_rank  achievements  recommendations notes  \\\n",
       "0         6        11         NaN            30                0   NaN   \n",
       "1        53         5         NaN            12                0   NaN   \n",
       "2         0         0         NaN             0                0   NaN   \n",
       "\n",
       "   average_playtime_forever  average_playtime_two_weeks  \\\n",
       "0                         0                           0   \n",
       "1                         0                           0   \n",
       "2                         0                           0   \n",
       "\n",
       "   median_playtime_forever  median_playtime_two_weeks             developers  \\\n",
       "0                        0                          0  Perpetual FX Creative   \n",
       "1                        0                          0           Rusty Moyher   \n",
       "2                        0                          0          Campião Games   \n",
       "\n",
       "              publishers                                         categories  \\\n",
       "0  Perpetual FX Creative  Single-player,Multi-player,Steam Achievements,...   \n",
       "1           Wild Rooster  Single-player,Steam Achievements,Full controll...   \n",
       "2          Campião Games                                      Single-player   \n",
       "\n",
       "                            genres  \\\n",
       "0              Casual,Indie,Sports   \n",
       "1                     Action,Indie   \n",
       "2  Action,Adventure,Indie,Strategy   \n",
       "\n",
       "                                                tags  \\\n",
       "0                        Indie,Casual,Sports,Bowling   \n",
       "1  Indie,Action,Pixel Graphics,2D,Retro,Arcade,Sc...   \n",
       "2                                                NaN   \n",
       "\n",
       "                                         screenshots  \\\n",
       "0  https://cdn.akamai.steamstatic.com/steam/apps/...   \n",
       "1  https://cdn.akamai.steamstatic.com/steam/apps/...   \n",
       "2  https://cdn.akamai.steamstatic.com/steam/apps/...   \n",
       "\n",
       "                                              movies  \n",
       "0  http://cdn.akamai.steamstatic.com/steam/apps/2...  \n",
       "1  http://cdn.akamai.steamstatic.com/steam/apps/2...  \n",
       "2  http://cdn.akamai.steamstatic.com/steam/apps/2...  "
      ]
     },
     "metadata": {},
     "output_type": "display_data"
    }
   ],
   "source": [
    "# Delete rows where the values in the 'Name' column are missing\n",
    "df_cleaned = df[df['name'].notnull()]\n",
    "display(df_cleaned.head(3))"
   ]
  },
  {
   "cell_type": "markdown",
   "metadata": {},
   "source": [
    "before we go to SQL, we drop all non-essential columns. We mostly would drop all non-INTEGER values."
   ]
  },
  {
   "cell_type": "code",
   "execution_count": 13,
   "metadata": {},
   "outputs": [
    {
     "data": {
      "image/png": "[encoded data removed]",
      "text/plain": [
       "<Figure size 720x432 with 1 Axes>"
      ]
     },
     "metadata": {
      "needs_background": "light"
     },
     "output_type": "display_data"
    }
   ],
   "source": [
    "# Calculate the count of missing values in each column\n",
    "missing_counts = df_cleaned.isnull().sum()\n",
    "\n",
    "# Filter columns with missing values\n",
    "missing_columns = missing_counts[missing_counts > 0]\n",
    "\n",
    "# Set the figure size\n",
    "plt.figure(figsize=(10, 6))\n",
    "\n",
    "# Create a bar plot for missing values\n",
    "plt.bar(missing_columns.index, missing_columns.values, color='red')\n",
    "plt.xlabel('Columns')\n",
    "plt.ylabel('Missing Value Count')\n",
    "plt.title('Missing Value Counts for Columns with Missing Values')\n",
    "plt.xticks(rotation=45, ha='right')\n",
    "plt.tight_layout()\n",
    "plt.show()\n"
   ]
  },
  {
   "cell_type": "code",
   "execution_count": 14,
   "metadata": {},
   "outputs": [],
   "source": [
    "# Columns to drop because of missing values\n",
    "columns_to_drop = ['website', \n",
    "                    'support_url', \n",
    "                    'support_email',\n",
    "                    'about_the_game',\n",
    "                    'score_rank',\n",
    "                    'notes',\n",
    "                    'reviews',\n",
    "                    'metacritic_url',\n",
    "                    'developers', \n",
    "                    'publishers', \n",
    "                    'categories', \n",
    "                    'genres', \n",
    "                    'tags', \n",
    "                    'screenshots', \n",
    "                    'movies']\n",
    "\n",
    "# Drop the specified columns\n",
    "df_small = df_cleaned.drop(columns=columns_to_drop)\n"
   ]
  },
  {
   "cell_type": "markdown",
   "metadata": {},
   "source": [
    "check again for missing values"
   ]
  },
  {
   "cell_type": "code",
   "execution_count": 15,
   "metadata": {},
   "outputs": [
    {
     "name": "stdout",
     "output_type": "stream",
     "text": [
      "Missing value counts for each column:\n"
     ]
    },
    {
     "data": {
      "text/plain": [
       "appid                         0\n",
       "name                          0\n",
       "release_date                  0\n",
       "estimated_owners              0\n",
       "peak_ccu                      0\n",
       "required_age                  0\n",
       "price                         0\n",
       "dlc_count                     0\n",
       "supported_languages           0\n",
       "full_audio_languages          0\n",
       "header_image                  0\n",
       "windows                       0\n",
       "mac                           0\n",
       "linux                         0\n",
       "metacritic_score              0\n",
       "user_score                    0\n",
       "positive                      0\n",
       "negative                      0\n",
       "achievements                  0\n",
       "recommendations               0\n",
       "average_playtime_forever      0\n",
       "average_playtime_two_weeks    0\n",
       "median_playtime_forever       0\n",
       "median_playtime_two_weeks     0\n",
       "dtype: int64"
      ]
     },
     "metadata": {},
     "output_type": "display_data"
    }
   ],
   "source": [
    "# Check for missing values\n",
    "missing_values_small = df_small.isnull()\n",
    "\n",
    "# Count the number of missing values in each column\n",
    "missing_counts_small = missing_values_small.sum()\n",
    "\n",
    "print(\"Missing value counts for each column:\")\n",
    "display(missing_counts_small)"
   ]
  },
  {
   "cell_type": "markdown",
   "metadata": {},
   "source": [
    "We know from the Workbook 03 that we also have other Columns we might want to delete, too."
   ]
  },
  {
   "cell_type": "code",
   "execution_count": 16,
   "metadata": {},
   "outputs": [
    {
     "data": {
      "image/png": "[encoded data removed]",
      "text/plain": [
       "<Figure size 720x432 with 1 Axes>"
      ]
     },
     "metadata": {
      "needs_background": "light"
     },
     "output_type": "display_data"
    }
   ],
   "source": [
    "#Checking Data for entries with 0 values\n",
    "count_data = []\n",
    "\n",
    "for column_name in df_small.columns:\n",
    "    count_zero = (df_small[column_name] == 0).sum()\n",
    "    \n",
    "    if count_zero > 0:\n",
    "        count_data.append((column_name, count_zero))\n",
    "\n",
    "if count_data:\n",
    "    column_names, counts = zip(*count_data)\n",
    "    plt.figure(figsize=(10, 6))\n",
    "    plt.bar(column_names, counts, color='blue')\n",
    "    plt.title('Count of Zero Values for Columns with Non-Zero Counts')\n",
    "    plt.xlabel('Columns')\n",
    "    plt.ylabel('Count')\n",
    "    plt.xticks(rotation=45, ha='right')\n",
    "    plt.tight_layout()\n",
    "    plt.show()\n",
    "else:\n",
    "    print(\"No columns with non-zero count of zero values found.\")\n"
   ]
  },
  {
   "cell_type": "markdown",
   "metadata": {},
   "source": [
    "What does this graphic actually mean?\n",
    "So we checked the Dataset, how often a Column has only the value \"0\" in a row. We assume that a \"0\" means that their is no Data available.\n",
    "\n",
    "We can also express that in numbers:"
   ]
  },
  {
   "cell_type": "code",
   "execution_count": 17,
   "metadata": {},
   "outputs": [
    {
     "data": {
      "text/plain": [
       "'Column: appid'"
      ]
     },
     "metadata": {},
     "output_type": "display_data"
    },
    {
     "data": {
      "text/plain": [
       "'Columns has rows of Not Null: 76985, How often is Greater Than Zero: 76985, How often is Zero: 0'"
      ]
     },
     "metadata": {},
     "output_type": "display_data"
    },
    {
     "data": {
      "text/plain": [
       "'========================================'"
      ]
     },
     "metadata": {},
     "output_type": "display_data"
    },
    {
     "data": {
      "text/plain": [
       "'Column: name'"
      ]
     },
     "metadata": {},
     "output_type": "display_data"
    },
    {
     "data": {
      "text/plain": [
       "'Columns has rows of Not Null: 76985, How often is Greater Than Zero: N/A, How often is Zero: 0'"
      ]
     },
     "metadata": {},
     "output_type": "display_data"
    },
    {
     "data": {
      "text/plain": [
       "'========================================'"
      ]
     },
     "metadata": {},
     "output_type": "display_data"
    },
    {
     "data": {
      "text/plain": [
       "'Column: release_date'"
      ]
     },
     "metadata": {},
     "output_type": "display_data"
    },
    {
     "data": {
      "text/plain": [
       "'Columns has rows of Not Null: 76985, How often is Greater Than Zero: N/A, How often is Zero: 0'"
      ]
     },
     "metadata": {},
     "output_type": "display_data"
    },
    {
     "data": {
      "text/plain": [
       "'========================================'"
      ]
     },
     "metadata": {},
     "output_type": "display_data"
    },
    {
     "data": {
      "text/plain": [
       "'Column: estimated_owners'"
      ]
     },
     "metadata": {},
     "output_type": "display_data"
    },
    {
     "data": {
      "text/plain": [
       "'Columns has rows of Not Null: 76985, How often is Greater Than Zero: N/A, How often is Zero: 0'"
      ]
     },
     "metadata": {},
     "output_type": "display_data"
    },
    {
     "data": {
      "text/plain": [
       "'========================================'"
      ]
     },
     "metadata": {},
     "output_type": "display_data"
    },
    {
     "data": {
      "text/plain": [
       "'Column: peak_ccu'"
      ]
     },
     "metadata": {},
     "output_type": "display_data"
    },
    {
     "data": {
      "text/plain": [
       "'Columns has rows of Not Null: 76985, How often is Greater Than Zero: 20926, How often is Zero: 56059'"
      ]
     },
     "metadata": {},
     "output_type": "display_data"
    },
    {
     "data": {
      "text/plain": [
       "'========================================'"
      ]
     },
     "metadata": {},
     "output_type": "display_data"
    },
    {
     "data": {
      "text/plain": [
       "'Column: required_age'"
      ]
     },
     "metadata": {},
     "output_type": "display_data"
    },
    {
     "data": {
      "text/plain": [
       "'Columns has rows of Not Null: 76985, How often is Greater Than Zero: 1561, How often is Zero: 75424'"
      ]
     },
     "metadata": {},
     "output_type": "display_data"
    },
    {
     "data": {
      "text/plain": [
       "'========================================'"
      ]
     },
     "metadata": {},
     "output_type": "display_data"
    },
    {
     "data": {
      "text/plain": [
       "'Column: price'"
      ]
     },
     "metadata": {},
     "output_type": "display_data"
    },
    {
     "data": {
      "text/plain": [
       "'Columns has rows of Not Null: 76985, How often is Greater Than Zero: 63299, How often is Zero: 13686'"
      ]
     },
     "metadata": {},
     "output_type": "display_data"
    },
    {
     "data": {
      "text/plain": [
       "'========================================'"
      ]
     },
     "metadata": {},
     "output_type": "display_data"
    },
    {
     "data": {
      "text/plain": [
       "'Column: dlc_count'"
      ]
     },
     "metadata": {},
     "output_type": "display_data"
    },
    {
     "data": {
      "text/plain": [
       "'Columns has rows of Not Null: 76985, How often is Greater Than Zero: 11259, How often is Zero: 65726'"
      ]
     },
     "metadata": {},
     "output_type": "display_data"
    },
    {
     "data": {
      "text/plain": [
       "'========================================'"
      ]
     },
     "metadata": {},
     "output_type": "display_data"
    },
    {
     "data": {
      "text/plain": [
       "'Column: supported_languages'"
      ]
     },
     "metadata": {},
     "output_type": "display_data"
    },
    {
     "data": {
      "text/plain": [
       "'Columns has rows of Not Null: 76985, How often is Greater Than Zero: N/A, How often is Zero: 0'"
      ]
     },
     "metadata": {},
     "output_type": "display_data"
    },
    {
     "data": {
      "text/plain": [
       "'========================================'"
      ]
     },
     "metadata": {},
     "output_type": "display_data"
    },
    {
     "data": {
      "text/plain": [
       "'Column: full_audio_languages'"
      ]
     },
     "metadata": {},
     "output_type": "display_data"
    },
    {
     "data": {
      "text/plain": [
       "'Columns has rows of Not Null: 76985, How often is Greater Than Zero: N/A, How often is Zero: 0'"
      ]
     },
     "metadata": {},
     "output_type": "display_data"
    },
    {
     "data": {
      "text/plain": [
       "'========================================'"
      ]
     },
     "metadata": {},
     "output_type": "display_data"
    },
    {
     "data": {
      "text/plain": [
       "'Column: header_image'"
      ]
     },
     "metadata": {},
     "output_type": "display_data"
    },
    {
     "data": {
      "text/plain": [
       "'Columns has rows of Not Null: 76985, How often is Greater Than Zero: N/A, How often is Zero: 0'"
      ]
     },
     "metadata": {},
     "output_type": "display_data"
    },
    {
     "data": {
      "text/plain": [
       "'========================================'"
      ]
     },
     "metadata": {},
     "output_type": "display_data"
    },
    {
     "data": {
      "text/plain": [
       "'Column: windows'"
      ]
     },
     "metadata": {},
     "output_type": "display_data"
    },
    {
     "data": {
      "text/plain": [
       "'Columns has rows of Not Null: 76985, How often is Greater Than Zero: 76958, How often is Zero: 27'"
      ]
     },
     "metadata": {},
     "output_type": "display_data"
    },
    {
     "data": {
      "text/plain": [
       "'========================================'"
      ]
     },
     "metadata": {},
     "output_type": "display_data"
    },
    {
     "data": {
      "text/plain": [
       "'Column: mac'"
      ]
     },
     "metadata": {},
     "output_type": "display_data"
    },
    {
     "data": {
      "text/plain": [
       "'Columns has rows of Not Null: 76985, How often is Greater Than Zero: 15156, How often is Zero: 61829'"
      ]
     },
     "metadata": {},
     "output_type": "display_data"
    },
    {
     "data": {
      "text/plain": [
       "'========================================'"
      ]
     },
     "metadata": {},
     "output_type": "display_data"
    },
    {
     "data": {
      "text/plain": [
       "'Column: linux'"
      ]
     },
     "metadata": {},
     "output_type": "display_data"
    },
    {
     "data": {
      "text/plain": [
       "'Columns has rows of Not Null: 76985, How often is Greater Than Zero: 10420, How often is Zero: 66565'"
      ]
     },
     "metadata": {},
     "output_type": "display_data"
    },
    {
     "data": {
      "text/plain": [
       "'========================================'"
      ]
     },
     "metadata": {},
     "output_type": "display_data"
    },
    {
     "data": {
      "text/plain": [
       "'Column: metacritic_score'"
      ]
     },
     "metadata": {},
     "output_type": "display_data"
    },
    {
     "data": {
      "text/plain": [
       "'Columns has rows of Not Null: 76985, How often is Greater Than Zero: 3792, How often is Zero: 73193'"
      ]
     },
     "metadata": {},
     "output_type": "display_data"
    },
    {
     "data": {
      "text/plain": [
       "'========================================'"
      ]
     },
     "metadata": {},
     "output_type": "display_data"
    },
    {
     "data": {
      "text/plain": [
       "'Column: user_score'"
      ]
     },
     "metadata": {},
     "output_type": "display_data"
    },
    {
     "data": {
      "text/plain": [
       "'Columns has rows of Not Null: 76985, How often is Greater Than Zero: 42, How often is Zero: 76943'"
      ]
     },
     "metadata": {},
     "output_type": "display_data"
    },
    {
     "data": {
      "text/plain": [
       "'========================================'"
      ]
     },
     "metadata": {},
     "output_type": "display_data"
    },
    {
     "data": {
      "text/plain": [
       "'Column: positive'"
      ]
     },
     "metadata": {},
     "output_type": "display_data"
    },
    {
     "data": {
      "text/plain": [
       "'Columns has rows of Not Null: 76985, How often is Greater Than Zero: 57539, How often is Zero: 19446'"
      ]
     },
     "metadata": {},
     "output_type": "display_data"
    },
    {
     "data": {
      "text/plain": [
       "'========================================'"
      ]
     },
     "metadata": {},
     "output_type": "display_data"
    },
    {
     "data": {
      "text/plain": [
       "'Column: negative'"
      ]
     },
     "metadata": {},
     "output_type": "display_data"
    },
    {
     "data": {
      "text/plain": [
       "'Columns has rows of Not Null: 76985, How often is Greater Than Zero: 48275, How often is Zero: 28710'"
      ]
     },
     "metadata": {},
     "output_type": "display_data"
    },
    {
     "data": {
      "text/plain": [
       "'========================================'"
      ]
     },
     "metadata": {},
     "output_type": "display_data"
    },
    {
     "data": {
      "text/plain": [
       "'Column: achievements'"
      ]
     },
     "metadata": {},
     "output_type": "display_data"
    },
    {
     "data": {
      "text/plain": [
       "'Columns has rows of Not Null: 76985, How often is Greater Than Zero: 38194, How often is Zero: 38791'"
      ]
     },
     "metadata": {},
     "output_type": "display_data"
    },
    {
     "data": {
      "text/plain": [
       "'========================================'"
      ]
     },
     "metadata": {},
     "output_type": "display_data"
    },
    {
     "data": {
      "text/plain": [
       "'Column: recommendations'"
      ]
     },
     "metadata": {},
     "output_type": "display_data"
    },
    {
     "data": {
      "text/plain": [
       "'Columns has rows of Not Null: 76985, How often is Greater Than Zero: 13057, How often is Zero: 63928'"
      ]
     },
     "metadata": {},
     "output_type": "display_data"
    },
    {
     "data": {
      "text/plain": [
       "'========================================'"
      ]
     },
     "metadata": {},
     "output_type": "display_data"
    },
    {
     "data": {
      "text/plain": [
       "'Column: average_playtime_forever'"
      ]
     },
     "metadata": {},
     "output_type": "display_data"
    },
    {
     "data": {
      "text/plain": [
       "'Columns has rows of Not Null: 76985, How often is Greater Than Zero: 14450, How often is Zero: 62535'"
      ]
     },
     "metadata": {},
     "output_type": "display_data"
    },
    {
     "data": {
      "text/plain": [
       "'========================================'"
      ]
     },
     "metadata": {},
     "output_type": "display_data"
    },
    {
     "data": {
      "text/plain": [
       "'Column: average_playtime_two_weeks'"
      ]
     },
     "metadata": {},
     "output_type": "display_data"
    },
    {
     "data": {
      "text/plain": [
       "'Columns has rows of Not Null: 76985, How often is Greater Than Zero: 1936, How often is Zero: 75049'"
      ]
     },
     "metadata": {},
     "output_type": "display_data"
    },
    {
     "data": {
      "text/plain": [
       "'========================================'"
      ]
     },
     "metadata": {},
     "output_type": "display_data"
    },
    {
     "data": {
      "text/plain": [
       "'Column: median_playtime_forever'"
      ]
     },
     "metadata": {},
     "output_type": "display_data"
    },
    {
     "data": {
      "text/plain": [
       "'Columns has rows of Not Null: 76985, How often is Greater Than Zero: 14450, How often is Zero: 62535'"
      ]
     },
     "metadata": {},
     "output_type": "display_data"
    },
    {
     "data": {
      "text/plain": [
       "'========================================'"
      ]
     },
     "metadata": {},
     "output_type": "display_data"
    },
    {
     "data": {
      "text/plain": [
       "'Column: median_playtime_two_weeks'"
      ]
     },
     "metadata": {},
     "output_type": "display_data"
    },
    {
     "data": {
      "text/plain": [
       "'Columns has rows of Not Null: 76985, How often is Greater Than Zero: 1936, How often is Zero: 75049'"
      ]
     },
     "metadata": {},
     "output_type": "display_data"
    },
    {
     "data": {
      "text/plain": [
       "'========================================'"
      ]
     },
     "metadata": {},
     "output_type": "display_data"
    }
   ],
   "source": [
    "# Read your DataFrame from your source (replace with your actual data)\n",
    "# df = pd.read_csv('your_data.csv')\n",
    "\n",
    "for column_name in df_small.columns:\n",
    "    count_zero = (df_small[column_name] == 0).sum()\n",
    "    count_not_null = df_small[column_name].notnull().sum()\n",
    "    \n",
    "    if pd.api.types.is_numeric_dtype(df_small[column_name]):\n",
    "        count_greater_than_zero = (df_small[column_name] > 0).sum()\n",
    "    else:\n",
    "        count_greater_than_zero = \"N/A\"\n",
    "    \n",
    "    display(f\"Column: {column_name}\")\n",
    "    display(f\"Columns has rows of Not Null: {count_not_null}, How often is Greater Than Zero: {count_greater_than_zero}, How often is Zero: {count_zero}\")\n",
    "    display(\"=\" * 40)\n"
   ]
  },
  {
   "cell_type": "code",
   "execution_count": 18,
   "metadata": {},
   "outputs": [
    {
     "data": {
      "text/html": [
       "<div>\n",
       "<style scoped>\n",
       "    .dataframe tbody tr th:only-of-type {\n",
       "        vertical-align: middle;\n",
       "    }\n",
       "\n",
       "    .dataframe tbody tr th {\n",
       "        vertical-align: top;\n",
       "    }\n",
       "\n",
       "    .dataframe thead th {\n",
       "        text-align: right;\n",
       "    }\n",
       "</style>\n",
       "<table border=\"1\" class=\"dataframe\">\n",
       "  <thead>\n",
       "    <tr style=\"text-align: right;\">\n",
       "      <th></th>\n",
       "      <th>appid</th>\n",
       "      <th>name</th>\n",
       "      <th>release_date</th>\n",
       "      <th>estimated_owners</th>\n",
       "      <th>peak_ccu</th>\n",
       "      <th>required_age</th>\n",
       "      <th>price</th>\n",
       "      <th>dlc_count</th>\n",
       "      <th>supported_languages</th>\n",
       "      <th>full_audio_languages</th>\n",
       "      <th>header_image</th>\n",
       "      <th>windows</th>\n",
       "      <th>mac</th>\n",
       "      <th>linux</th>\n",
       "      <th>metacritic_score</th>\n",
       "      <th>user_score</th>\n",
       "      <th>positive</th>\n",
       "      <th>negative</th>\n",
       "      <th>achievements</th>\n",
       "      <th>recommendations</th>\n",
       "      <th>average_playtime_forever</th>\n",
       "      <th>average_playtime_two_weeks</th>\n",
       "      <th>median_playtime_forever</th>\n",
       "      <th>median_playtime_two_weeks</th>\n",
       "    </tr>\n",
       "  </thead>\n",
       "  <tbody>\n",
       "    <tr>\n",
       "      <th>0</th>\n",
       "      <td>20200</td>\n",
       "      <td>Galactic Bowling</td>\n",
       "      <td>2008-10-21</td>\n",
       "      <td>0 - 20000</td>\n",
       "      <td>0</td>\n",
       "      <td>0</td>\n",
       "      <td>19.99</td>\n",
       "      <td>0</td>\n",
       "      <td>['English']</td>\n",
       "      <td>[]</td>\n",
       "      <td>https://cdn.akamai.steamstatic.com/steam/apps/...</td>\n",
       "      <td>True</td>\n",
       "      <td>False</td>\n",
       "      <td>False</td>\n",
       "      <td>0</td>\n",
       "      <td>0</td>\n",
       "      <td>6</td>\n",
       "      <td>11</td>\n",
       "      <td>30</td>\n",
       "      <td>0</td>\n",
       "      <td>0</td>\n",
       "      <td>0</td>\n",
       "      <td>0</td>\n",
       "      <td>0</td>\n",
       "    </tr>\n",
       "    <tr>\n",
       "      <th>1</th>\n",
       "      <td>655370</td>\n",
       "      <td>Train Bandit</td>\n",
       "      <td>2017-10-12</td>\n",
       "      <td>0 - 20000</td>\n",
       "      <td>0</td>\n",
       "      <td>0</td>\n",
       "      <td>0.99</td>\n",
       "      <td>0</td>\n",
       "      <td>['English', 'French', 'Italian', 'German', 'Sp...</td>\n",
       "      <td>[]</td>\n",
       "      <td>https://cdn.akamai.steamstatic.com/steam/apps/...</td>\n",
       "      <td>True</td>\n",
       "      <td>True</td>\n",
       "      <td>False</td>\n",
       "      <td>0</td>\n",
       "      <td>0</td>\n",
       "      <td>53</td>\n",
       "      <td>5</td>\n",
       "      <td>12</td>\n",
       "      <td>0</td>\n",
       "      <td>0</td>\n",
       "      <td>0</td>\n",
       "      <td>0</td>\n",
       "      <td>0</td>\n",
       "    </tr>\n",
       "    <tr>\n",
       "      <th>2</th>\n",
       "      <td>1732930</td>\n",
       "      <td>Jolt Project</td>\n",
       "      <td>2021-11-17</td>\n",
       "      <td>0 - 20000</td>\n",
       "      <td>0</td>\n",
       "      <td>0</td>\n",
       "      <td>4.99</td>\n",
       "      <td>0</td>\n",
       "      <td>['English', 'Portuguese - Brazil']</td>\n",
       "      <td>[]</td>\n",
       "      <td>https://cdn.akamai.steamstatic.com/steam/apps/...</td>\n",
       "      <td>True</td>\n",
       "      <td>False</td>\n",
       "      <td>False</td>\n",
       "      <td>0</td>\n",
       "      <td>0</td>\n",
       "      <td>0</td>\n",
       "      <td>0</td>\n",
       "      <td>0</td>\n",
       "      <td>0</td>\n",
       "      <td>0</td>\n",
       "      <td>0</td>\n",
       "      <td>0</td>\n",
       "      <td>0</td>\n",
       "    </tr>\n",
       "  </tbody>\n",
       "</table>\n",
       "</div>"
      ],
      "text/plain": [
       "     appid              name release_date estimated_owners  peak_ccu  \\\n",
       "0    20200  Galactic Bowling   2008-10-21        0 - 20000         0   \n",
       "1   655370      Train Bandit   2017-10-12        0 - 20000         0   \n",
       "2  1732930      Jolt Project   2021-11-17        0 - 20000         0   \n",
       "\n",
       "   required_age  price  dlc_count  \\\n",
       "0             0  19.99          0   \n",
       "1             0   0.99          0   \n",
       "2             0   4.99          0   \n",
       "\n",
       "                                 supported_languages full_audio_languages  \\\n",
       "0                                        ['English']                   []   \n",
       "1  ['English', 'French', 'Italian', 'German', 'Sp...                   []   \n",
       "2                 ['English', 'Portuguese - Brazil']                   []   \n",
       "\n",
       "                                        header_image  windows    mac  linux  \\\n",
       "0  https://cdn.akamai.steamstatic.com/steam/apps/...     True  False  False   \n",
       "1  https://cdn.akamai.steamstatic.com/steam/apps/...     True   True  False   \n",
       "2  https://cdn.akamai.steamstatic.com/steam/apps/...     True  False  False   \n",
       "\n",
       "   metacritic_score  user_score  positive  negative  achievements  \\\n",
       "0                 0           0         6        11            30   \n",
       "1                 0           0        53         5            12   \n",
       "2                 0           0         0         0             0   \n",
       "\n",
       "   recommendations  average_playtime_forever  average_playtime_two_weeks  \\\n",
       "0                0                         0                           0   \n",
       "1                0                         0                           0   \n",
       "2                0                         0                           0   \n",
       "\n",
       "   median_playtime_forever  median_playtime_two_weeks  \n",
       "0                        0                          0  \n",
       "1                        0                          0  \n",
       "2                        0                          0  "
      ]
     },
     "metadata": {},
     "output_type": "display_data"
    }
   ],
   "source": [
    "display(df_small.head(3))"
   ]
  },
  {
   "cell_type": "markdown",
   "metadata": {},
   "source": [
    "We could try to automatically delete these column due to a Portion of missing values, but that would probably also kill interesting columns like games for \"Linux\" and \"Mac\".\n",
    "\n",
    "So its better to do that manually. "
   ]
  },
  {
   "cell_type": "code",
   "execution_count": 19,
   "metadata": {},
   "outputs": [],
   "source": [
    "# Columns to drop because of missing values\n",
    "columns_to_drop = ['peak_ccu', 'header_image']\n",
    "\n",
    "# Drop the specified columns\n",
    "df_tableau = df_small.drop(columns=columns_to_drop)\n"
   ]
  },
  {
   "cell_type": "markdown",
   "metadata": {},
   "source": [
    "----"
   ]
  },
  {
   "cell_type": "markdown",
   "metadata": {},
   "source": [
    "Lets try to put that in a PostGres-SQL - Enviroment"
   ]
  },
  {
   "cell_type": "code",
   "execution_count": 20,
   "metadata": {},
   "outputs": [],
   "source": [
    "# export the data frame to DBeaver\n",
    "\n",
    "# call the schema created for this project\n",
    "schema = 'public'\n",
    "\n",
    "# give the table a unique name\n",
    "table_name = 'sgd_workbook_tableau'"
   ]
  },
  {
   "cell_type": "code",
   "execution_count": 21,
   "metadata": {},
   "outputs": [
    {
     "name": "stdout",
     "output_type": "stream",
     "text": [
      "public\n",
      "sgd_workbook_tableau\n"
     ]
    }
   ],
   "source": [
    "print(schema)\n",
    "print(table_name)"
   ]
  },
  {
   "cell_type": "markdown",
   "metadata": {},
   "source": [
    "delete any existing table"
   ]
  },
  {
   "cell_type": "code",
   "execution_count": 22,
   "metadata": {},
   "outputs": [],
   "source": [
    "# Delete sgd_workbook_small table if it exists\n",
    "sql_text = f\"\"\"\n",
    "DROP TABLE IF EXISTS {schema}.{table_name};\n",
    "    \"\"\" \n",
    "# Take the SQL-Command and execute it\n",
    "result = engine.execute(sql_text)"
   ]
  },
  {
   "cell_type": "markdown",
   "metadata": {},
   "source": [
    "Creating a fresh table in PostGres"
   ]
  },
  {
   "cell_type": "code",
   "execution_count": 23,
   "metadata": {},
   "outputs": [
    {
     "name": "stdout",
     "output_type": "stream",
     "text": [
      "The sgd_workbook_tableau table was imported successfully.\n"
     ]
    }
   ],
   "source": [
    "# export the table to sql\n",
    "if engine!=None:\n",
    "    try:\n",
    "        df_tableau.to_sql(name=table_name,\n",
    "                        con=engine,\n",
    "                        if_exists='replace',\n",
    "                        schema=schema, \n",
    "                        index=False,\n",
    "                        chunksize=5000, \n",
    "                        method='multi')\n",
    "        print(f\"The {table_name} table was imported successfully.\")\n",
    "    \n",
    "    except (Exception, psycopg2.DatabaseError) as error:\n",
    "        print(error)\n",
    "        engine = None"
   ]
  },
  {
   "cell_type": "markdown",
   "metadata": {},
   "source": [
    "check the import"
   ]
  },
  {
   "cell_type": "code",
   "execution_count": 24,
   "metadata": {},
   "outputs": [
    {
     "data": {
      "text/html": [
       "<div>\n",
       "<style scoped>\n",
       "    .dataframe tbody tr th:only-of-type {\n",
       "        vertical-align: middle;\n",
       "    }\n",
       "\n",
       "    .dataframe tbody tr th {\n",
       "        vertical-align: top;\n",
       "    }\n",
       "\n",
       "    .dataframe thead th {\n",
       "        text-align: right;\n",
       "    }\n",
       "</style>\n",
       "<table border=\"1\" class=\"dataframe\">\n",
       "  <thead>\n",
       "    <tr style=\"text-align: right;\">\n",
       "      <th></th>\n",
       "      <th>appid</th>\n",
       "      <th>name</th>\n",
       "      <th>release_date</th>\n",
       "      <th>estimated_owners</th>\n",
       "      <th>required_age</th>\n",
       "      <th>price</th>\n",
       "      <th>dlc_count</th>\n",
       "      <th>supported_languages</th>\n",
       "      <th>full_audio_languages</th>\n",
       "      <th>windows</th>\n",
       "      <th>mac</th>\n",
       "      <th>linux</th>\n",
       "      <th>metacritic_score</th>\n",
       "      <th>user_score</th>\n",
       "      <th>positive</th>\n",
       "      <th>negative</th>\n",
       "      <th>achievements</th>\n",
       "      <th>recommendations</th>\n",
       "      <th>average_playtime_forever</th>\n",
       "      <th>average_playtime_two_weeks</th>\n",
       "      <th>median_playtime_forever</th>\n",
       "      <th>median_playtime_two_weeks</th>\n",
       "    </tr>\n",
       "  </thead>\n",
       "  <tbody>\n",
       "    <tr>\n",
       "      <th>0</th>\n",
       "      <td>20200</td>\n",
       "      <td>Galactic Bowling</td>\n",
       "      <td>2008-10-21</td>\n",
       "      <td>0 - 20000</td>\n",
       "      <td>0</td>\n",
       "      <td>19.99</td>\n",
       "      <td>0</td>\n",
       "      <td>['English']</td>\n",
       "      <td>[]</td>\n",
       "      <td>True</td>\n",
       "      <td>False</td>\n",
       "      <td>False</td>\n",
       "      <td>0</td>\n",
       "      <td>0</td>\n",
       "      <td>6</td>\n",
       "      <td>11</td>\n",
       "      <td>30</td>\n",
       "      <td>0</td>\n",
       "      <td>0</td>\n",
       "      <td>0</td>\n",
       "      <td>0</td>\n",
       "      <td>0</td>\n",
       "    </tr>\n",
       "    <tr>\n",
       "      <th>1</th>\n",
       "      <td>655370</td>\n",
       "      <td>Train Bandit</td>\n",
       "      <td>2017-10-12</td>\n",
       "      <td>0 - 20000</td>\n",
       "      <td>0</td>\n",
       "      <td>0.99</td>\n",
       "      <td>0</td>\n",
       "      <td>['English', 'French', 'Italian', 'German', 'Sp...</td>\n",
       "      <td>[]</td>\n",
       "      <td>True</td>\n",
       "      <td>True</td>\n",
       "      <td>False</td>\n",
       "      <td>0</td>\n",
       "      <td>0</td>\n",
       "      <td>53</td>\n",
       "      <td>5</td>\n",
       "      <td>12</td>\n",
       "      <td>0</td>\n",
       "      <td>0</td>\n",
       "      <td>0</td>\n",
       "      <td>0</td>\n",
       "      <td>0</td>\n",
       "    </tr>\n",
       "    <tr>\n",
       "      <th>2</th>\n",
       "      <td>1732930</td>\n",
       "      <td>Jolt Project</td>\n",
       "      <td>2021-11-17</td>\n",
       "      <td>0 - 20000</td>\n",
       "      <td>0</td>\n",
       "      <td>4.99</td>\n",
       "      <td>0</td>\n",
       "      <td>['English', 'Portuguese - Brazil']</td>\n",
       "      <td>[]</td>\n",
       "      <td>True</td>\n",
       "      <td>False</td>\n",
       "      <td>False</td>\n",
       "      <td>0</td>\n",
       "      <td>0</td>\n",
       "      <td>0</td>\n",
       "      <td>0</td>\n",
       "      <td>0</td>\n",
       "      <td>0</td>\n",
       "      <td>0</td>\n",
       "      <td>0</td>\n",
       "      <td>0</td>\n",
       "      <td>0</td>\n",
       "    </tr>\n",
       "  </tbody>\n",
       "</table>\n",
       "</div>"
      ],
      "text/plain": [
       "     appid              name release_date estimated_owners  required_age  \\\n",
       "0    20200  Galactic Bowling   2008-10-21        0 - 20000             0   \n",
       "1   655370      Train Bandit   2017-10-12        0 - 20000             0   \n",
       "2  1732930      Jolt Project   2021-11-17        0 - 20000             0   \n",
       "\n",
       "   price  dlc_count                                supported_languages  \\\n",
       "0  19.99          0                                        ['English']   \n",
       "1   0.99          0  ['English', 'French', 'Italian', 'German', 'Sp...   \n",
       "2   4.99          0                 ['English', 'Portuguese - Brazil']   \n",
       "\n",
       "  full_audio_languages  windows    mac  linux  metacritic_score  user_score  \\\n",
       "0                   []     True  False  False                 0           0   \n",
       "1                   []     True   True  False                 0           0   \n",
       "2                   []     True  False  False                 0           0   \n",
       "\n",
       "   positive  negative  achievements  recommendations  \\\n",
       "0         6        11            30                0   \n",
       "1        53         5            12                0   \n",
       "2         0         0             0                0   \n",
       "\n",
       "   average_playtime_forever  average_playtime_two_weeks  \\\n",
       "0                         0                           0   \n",
       "1                         0                           0   \n",
       "2                         0                           0   \n",
       "\n",
       "   median_playtime_forever  median_playtime_two_weeks  \n",
       "0                        0                          0  \n",
       "1                        0                          0  \n",
       "2                        0                          0  "
      ]
     },
     "metadata": {},
     "output_type": "display_data"
    }
   ],
   "source": [
    "# Select the Data from PostGreDatabase\n",
    "\n",
    "sql = f\"\"\"\n",
    "\n",
    "SELECT *\n",
    "FROM {schema}.{table_name} as sgd_workbook_small\n",
    "\n",
    "\n",
    "\"\"\" \n",
    "# Take the SQL-Command and import all Data from the PostGreDatabase to the variable sgd_workbook_small \n",
    "sgd_tableau = get_dataframe(sql) \n",
    "display(sgd_tableau.head(3))"
   ]
  },
  {
   "cell_type": "markdown",
   "metadata": {},
   "source": [
    "We now have created a Database for Tableau, which we can now use for further visualisation."
   ]
  }
 ],
 "metadata": {
  "kernelspec": {
   "display_name": "nf_sql",
   "language": "python",
   "name": "python3"
  },
  "language_info": {
   "codemirror_mode": {
    "name": "ipython",
    "version": 3
   },
   "file_extension": ".py",
   "mimetype": "text/x-python",
   "name": "python",
   "nbconvert_exporter": "python",
   "pygments_lexer": "ipython3",
   "version": "3.9.13"
  },
  "orig_nbformat": 4
 },
 "nbformat": 4,
 "nbformat_minor": 2
}
